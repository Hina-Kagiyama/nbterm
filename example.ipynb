{
 "cells": [
  {
   "cell_type": "markdown",
   "id": "379e43ab",
   "metadata": {},
   "source": [
    "# Step 1: Compute MNIST Statistics"
   ]
  },
  {
   "cell_type": "code",
   "execution_count": 1,
   "id": "591718ab",
   "metadata": {},
   "outputs": [],
   "source": [
    "import numpy as np\n",
    "import struct"
   ]
  },
  {
   "cell_type": "code",
   "execution_count": 2,
   "id": "4a97a999",
   "metadata": {},
   "outputs": [],
   "source": [
    "def load_images(filepath):\n",
    "    with open(filepath, \"rb\") as f:\n",
    "        magic, num, rows, cols = struct.unpack(\">IIII\", f.read(16))\n",
    "        images = (\n",
    "            np.frombuffer(f.read(), dtype=np.uint8)\n",
    "            .reshape(num, 1, rows, cols)\n",
    "            .astype(np.float32)\n",
    "            / 255.0\n",
    "        )\n",
    "    return images\n",
    "\n",
    "\n",
    "def load_labels(filepath):\n",
    "    with open(filepath, \"rb\") as f:\n",
    "        magic, num = struct.unpack(\">II\", f.read(8))\n",
    "        labels = np.frombuffer(f.read(), dtype=np.uint8)\n",
    "    return labels"
   ]
  },
  {
   "cell_type": "code",
   "execution_count": 3,
   "id": "4ae7db8f",
   "metadata": {},
   "outputs": [],
   "source": [
    "train_images_path = './dataset/train/train-images-idx3-ubyte'\n",
    "train_labels_path = './dataset/train/train-labels-idx1-ubyte'\n",
    "test_images_path = './dataset/test/t10k-images-idx3-ubyte'\n",
    "test_labels_path = './dataset/test/t10k-labels-idx1-ubyte'"
   ]
  },
  {
   "cell_type": "code",
   "execution_count": 4,
   "id": "47bbb15f",
   "metadata": {},
   "outputs": [
    {
     "name": "stdout",
     "output_type": "stream",
     "text": [
      "Mean: 0.1307, Std: 0.3081\n"
     ]
    }
   ],
   "source": [
    "images = load_images(train_images_path)\n",
    "\n",
    "\n",
    "mnist_mean = np.mean(images)\n",
    "mnist_std = np.std(images)\n",
    "\n",
    "print(f\"Mean: {mnist_mean:.4f}, Std: {mnist_std:.4f}\")"
   ]
  },
  {
   "cell_type": "markdown",
   "id": "b64ec4e4",
   "metadata": {},
   "source": [
    "# Step 2: Load MNIST to normalized pytorch tensors"
   ]
  },
  {
   "cell_type": "code",
   "execution_count": 5,
   "id": "e726014e",
   "metadata": {},
   "outputs": [],
   "source": [
    "import torch\n",
    "from torch.utils.data import Dataset as Dtst, DataLoader as Dldr"
   ]
  },
  {
   "cell_type": "code",
   "execution_count": 6,
   "id": "12756895",
   "metadata": {},
   "outputs": [],
   "source": [
    "class MNISTDataset(Dtst):\n",
    "    def __init__(self, images_path, labels_path, transform=None):\n",
    "        self.images = load_images(images_path)\n",
    "        self.labels = load_labels(labels_path)\n",
    "        self.transform = transform\n",
    "\n",
    "    def __len__(self):\n",
    "        return len(self.images)\n",
    "\n",
    "    def __getitem__(self, idx):\n",
    "        image = self.images[idx].squeeze()  # shape: (28, 28)\n",
    "        label = self.labels[idx]\n",
    "        if self.transform:\n",
    "            image = self.transform(image)\n",
    "        return image, label"
   ]
  },
  {
   "cell_type": "code",
   "execution_count": 7,
   "id": "ec2ba539",
   "metadata": {},
   "outputs": [],
   "source": [
    "from torchvision import transforms as tv_tr"
   ]
  },
  {
   "cell_type": "code",
   "execution_count": 8,
   "id": "8c915f05",
   "metadata": {},
   "outputs": [],
   "source": [
    "ppx_transform = tv_tr.Compose(\n",
    "    [tv_tr.ToTensor(), tv_tr.Normalize(mean=(mnist_mean,), std=(mnist_std,))]\n",
    ")"
   ]
  },
  {
   "cell_type": "code",
   "execution_count": 9,
   "id": "9752cfaa",
   "metadata": {},
   "outputs": [],
   "source": [
    "train_dataset = MNISTDataset(train_images_path, train_labels_path, transform=ppx_transform)\n",
    "test_dataset = MNISTDataset(test_images_path, test_labels_path, transform=ppx_transform)\n",
    "train_loader = Dldr(dataset=train_dataset, batch_size=64, shuffle=True, num_workers=0)\n",
    "test_loader = Dldr(dataset=test_dataset, batch_size=64, shuffle=False, num_workers=0)"
   ]
  },
  {
   "cell_type": "markdown",
   "id": "60647edc",
   "metadata": {},
   "source": [
    "# Step 2.5: Vertification"
   ]
  },
  {
   "cell_type": "code",
   "execution_count": 10,
   "id": "f6b1833d",
   "metadata": {},
   "outputs": [],
   "source": [
    "import matplotlib.pyplot as plt"
   ]
  },
  {
   "cell_type": "code",
   "execution_count": 11,
   "id": "5e772a99",
   "metadata": {},
   "outputs": [],
   "source": [
    "def show_samples(dataset, num_samples=10, mean=mnist_mean, std=mnist_std):\n",
    "    plt.figure(figsize=(12, 3))\n",
    "    for i in range(num_samples):\n",
    "        image, label = dataset[i]\n",
    "        image = image.squeeze().numpy()\n",
    "        plt.subplot(1, num_samples, i + 1)\n",
    "        plt.imshow(image, cmap=\"gray\")\n",
    "        plt.title(str(label))\n",
    "        plt.axis(\"off\")\n",
    "    plt.tight_layout()"
   ]
  },
  {
   "cell_type": "code",
   "execution_count": 12,
   "id": "144355a1",
   "metadata": {},
   "outputs": [
    {
     "data": {
      "image/png": "[encoded data removed]",
      "text/plain": [
       "<Figure size 1200x300 with 10 Axes>"
      ]
     },
     "metadata": {},
     "output_type": "display_data"
    }
   ],
   "source": [
    "show_samples(train_dataset)"
   ]
  },
  {
   "cell_type": "markdown",
   "id": "78098980",
   "metadata": {},
   "source": [
    "# Step 3: Define the Model"
   ]
  },
  {
   "cell_type": "code",
   "execution_count": 13,
   "id": "dcda5270",
   "metadata": {},
   "outputs": [],
   "source": [
    "from torch import nn"
   ]
  },
  {
   "cell_type": "code",
   "execution_count": 14,
   "id": "c2970521",
   "metadata": {},
   "outputs": [],
   "source": [
    "class MNIST_CNN(nn.Module):\n",
    "    def __init__(self):\n",
    "        super(MNIST_CNN, self).__init__()\n",
    "        self.fc = nn.Sequential(\n",
    "            nn.Conv2d(1, 10, kernel_size=5),\n",
    "            nn.ReLU(),\n",
    "            nn.MaxPool2d(kernel_size=2),\n",
    "            nn.Conv2d(10, 20, kernel_size=5),\n",
    "            nn.ReLU(),\n",
    "            nn.MaxPool2d(kernel_size=2),\n",
    "            nn.Flatten(),\n",
    "            nn.Linear(320, 50),\n",
    "            nn.Linear(50, 10),\n",
    "        )\n",
    "\n",
    "    def forward(self, x):\n",
    "        x = self.fc(x)\n",
    "        return x"
   ]
  },
  {
   "cell_type": "code",
   "execution_count": 15,
   "id": "0230ca37",
   "metadata": {},
   "outputs": [],
   "source": [
    "model = MNIST_CNN()"
   ]
  },
  {
   "cell_type": "markdown",
   "id": "7f5d3f81",
   "metadata": {},
   "source": [
    "# Step 3.5: Verification"
   ]
  },
  {
   "cell_type": "code",
   "execution_count": 16,
   "id": "2c33e7a2",
   "metadata": {},
   "outputs": [],
   "source": [
    "from torchinfo import summary as ti_sm"
   ]
  },
  {
   "cell_type": "code",
   "execution_count": 17,
   "id": "50cfff4a",
   "metadata": {},
   "outputs": [
    {
     "data": {
      "text/plain": [
       "==========================================================================================\n",
       "Layer (type:depth-idx)                   Output Shape              Param #\n",
       "==========================================================================================\n",
       "MNIST_CNN                                [64, 10]                  --\n",
       "├─Sequential: 1-1                        [64, 10]                  --\n",
       "│    └─Conv2d: 2-1                       [64, 10, 24, 24]          260\n",
       "│    └─ReLU: 2-2                         [64, 10, 24, 24]          --\n",
       "│    └─MaxPool2d: 2-3                    [64, 10, 12, 12]          --\n",
       "│    └─Conv2d: 2-4                       [64, 20, 8, 8]            5,020\n",
       "│    └─ReLU: 2-5                         [64, 20, 8, 8]            --\n",
       "│    └─MaxPool2d: 2-6                    [64, 20, 4, 4]            --\n",
       "│    └─Flatten: 2-7                      [64, 320]                 --\n",
       "│    └─Linear: 2-8                       [64, 50]                  16,050\n",
       "│    └─Linear: 2-9                       [64, 10]                  510\n",
       "==========================================================================================\n",
       "Total params: 21,840\n",
       "Trainable params: 21,840\n",
       "Non-trainable params: 0\n",
       "Total mult-adds (Units.MEGABYTES): 31.21\n",
       "==========================================================================================\n",
       "Input size (MB): 0.20\n",
       "Forward/backward pass size (MB): 3.64\n",
       "Params size (MB): 0.09\n",
       "Estimated Total Size (MB): 3.92\n",
       "=========================================================================================="
      ]
     },
     "execution_count": 17,
     "metadata": {},
     "output_type": "execute_result"
    }
   ],
   "source": [
    "ti_sm(model, (64, 1, 28, 28))"
   ]
  },
  {
   "cell_type": "markdown",
   "id": "2e35d331",
   "metadata": {},
   "source": [
    "# Step 4: Define Trainning Scheme"
   ]
  },
  {
   "cell_type": "code",
   "execution_count": 18,
   "id": "3ef355a8",
   "metadata": {},
   "outputs": [],
   "source": [
    "criterion = nn.CrossEntropyLoss()\n",
    "optimizer = torch.optim.SGD(model.parameters(), lr=0.01, momentum=0.9)"
   ]
  },
  {
   "cell_type": "code",
   "execution_count": 19,
   "id": "916214e7",
   "metadata": {},
   "outputs": [],
   "source": [
    "from tqdm import tqdm as tq"
   ]
  },
  {
   "cell_type": "code",
   "execution_count": 20,
   "id": "e1701674",
   "metadata": {},
   "outputs": [
    {
     "data": {
      "text/plain": [
       "device(type='cpu')"
      ]
     },
     "execution_count": 20,
     "metadata": {},
     "output_type": "execute_result"
    }
   ],
   "source": [
    "device = torch.device(\"cuda\" if torch.cuda.is_available() else \"cpu\")\n",
    "model = model.to(device)\n",
    "device"
   ]
  },
  {
   "cell_type": "code",
   "execution_count": 21,
   "id": "9d4c6422",
   "metadata": {},
   "outputs": [
    {
     "name": "stderr",
     "output_type": "stream",
     "text": [
      "Epoch 1/20: 100%|██████████| 938/938 [00:05<00:00, 176.84it/s]\n",
      "Epoch 2/20: 100%|██████████| 938/938 [00:05<00:00, 180.37it/s]\n",
      "Epoch 3/20: 100%|██████████| 938/938 [00:05<00:00, 166.33it/s]\n",
      "Epoch 4/20: 100%|██████████| 938/938 [00:05<00:00, 177.68it/s]\n",
      "Epoch 5/20: 100%|██████████| 938/938 [00:05<00:00, 183.56it/s]\n",
      "Epoch 6/20: 100%|██████████| 938/938 [00:05<00:00, 176.68it/s]\n",
      "Epoch 7/20: 100%|██████████| 938/938 [00:05<00:00, 164.15it/s]\n",
      "Epoch 8/20: 100%|██████████| 938/938 [00:05<00:00, 168.78it/s]\n",
      "Epoch 9/20: 100%|██████████| 938/938 [00:05<00:00, 173.69it/s]\n",
      "Epoch 10/20: 100%|██████████| 938/938 [00:05<00:00, 169.15it/s]\n",
      "Epoch 11/20: 100%|██████████| 938/938 [00:05<00:00, 175.69it/s]\n",
      "Epoch 12/20: 100%|██████████| 938/938 [00:05<00:00, 175.80it/s]\n",
      "Epoch 13/20: 100%|██████████| 938/938 [00:05<00:00, 170.60it/s]\n",
      "Epoch 14/20: 100%|██████████| 938/938 [00:05<00:00, 169.60it/s]\n",
      "Epoch 15/20: 100%|██████████| 938/938 [00:05<00:00, 176.73it/s]\n",
      "Epoch 16/20: 100%|██████████| 938/938 [00:05<00:00, 173.64it/s]\n",
      "Epoch 17/20: 100%|██████████| 938/938 [00:05<00:00, 169.84it/s]\n",
      "Epoch 18/20: 100%|██████████| 938/938 [00:05<00:00, 169.46it/s]\n",
      "Epoch 19/20: 100%|██████████| 938/938 [00:05<00:00, 174.61it/s]\n",
      "Epoch 20/20: 100%|██████████| 938/938 [00:05<00:00, 167.06it/s]\n"
     ]
    }
   ],
   "source": [
    "num_epochs = 20\n",
    "train_losses = []\n",
    "\n",
    "for epoch in range(num_epochs):\n",
    "    model.train()\n",
    "    running_loss = 0.0\n",
    "    progress_bar = tq(train_loader, desc=f\"Epoch {epoch+1}/{num_epochs}\")\n",
    "\n",
    "    for inputs, targets in progress_bar:\n",
    "        inputs, targets = inputs.to(device), targets.to(device)\n",
    "\n",
    "        optimizer.zero_grad()\n",
    "        outputs = model(inputs)\n",
    "        loss = criterion(outputs, targets)\n",
    "        loss.backward()\n",
    "        optimizer.step()\n",
    "\n",
    "        loss_value = loss.item()\n",
    "        running_loss += loss_value\n",
    "\n",
    "    avg_loss = running_loss / len(train_loader)\n",
    "    train_losses.append(avg_loss)"
   ]
  },
  {
   "cell_type": "code",
   "execution_count": 22,
   "id": "2ef57ca6",
   "metadata": {},
   "outputs": [
    {
     "data": {
      "image/png": "[encoded data removed]",
      "text/plain": [
       "<Figure size 800x500 with 1 Axes>"
      ]
     },
     "metadata": {},
     "output_type": "display_data"
    }
   ],
   "source": [
    "plt.figure(figsize=(8, 5))\n",
    "plt.plot(train_losses, marker='o')\n",
    "plt.title(\"Training Loss Over Epochs\")\n",
    "plt.xlabel(\"Epoch\")\n",
    "plt.ylabel(\"Loss\")\n",
    "plt.grid(True)\n",
    "plt.show()"
   ]
  },
  {
   "cell_type": "markdown",
   "id": "6d1eed64",
   "metadata": {},
   "source": [
    "# Step 4.5: Preservation"
   ]
  },
  {
   "cell_type": "code",
   "execution_count": 23,
   "id": "707e5deb",
   "metadata": {},
   "outputs": [],
   "source": [
    "torch.save(model.state_dict(), './MNIST-MODEL.pth')"
   ]
  },
  {
   "cell_type": "markdown",
   "id": "76919dfa",
   "metadata": {},
   "source": [
    "# Step 5: Test and Report"
   ]
  },
  {
   "cell_type": "code",
   "execution_count": 24,
   "id": "fa477742",
   "metadata": {},
   "outputs": [],
   "source": [
    "model.eval()\n",
    "all_preds = []\n",
    "all_labels = []\n",
    "\n",
    "with torch.no_grad():\n",
    "    for inputs, targets in test_loader:\n",
    "        inputs = inputs.to(device)\n",
    "        outputs = model(inputs)\n",
    "        preds = outputs.argmax(dim=1).cpu().numpy()\n",
    "        all_preds.extend(preds)\n",
    "        all_labels.extend(targets.numpy())"
   ]
  },
  {
   "cell_type": "code",
   "execution_count": 25,
   "id": "c65480b6",
   "metadata": {},
   "outputs": [],
   "source": [
    "from sklearn.metrics import confusion_matrix as cfm, ConfusionMatrixDisplay as CMD"
   ]
  },
  {
   "cell_type": "code",
   "execution_count": 26,
   "id": "1d4097d0",
   "metadata": {},
   "outputs": [
    {
     "data": {
      "image/png": "[encoded data removed]",
      "text/plain": [
       "<Figure size 640x480 with 2 Axes>"
      ]
     },
     "metadata": {},
     "output_type": "display_data"
    }
   ],
   "source": [
    "cm = cfm(all_labels, all_preds)\n",
    "disp = CMD(confusion_matrix=cm, display_labels=list(range(10)))\n",
    "disp.plot(cmap='Blues', xticks_rotation=45)\n",
    "plt.title(\"Confusion Matrix - MNIST Test Set\")\n",
    "plt.grid(False)\n",
    "plt.show()"
   ]
  },
  {
   "cell_type": "code",
   "execution_count": null,
   "id": "87296a23",
   "metadata": {},
   "outputs": [],
   "source": []
  }
 ],
 "metadata": {
  "kernelspec": {
   "display_name": "Python 3",
   "language": "python",
   "name": "python3"
  },
  "language_info": {
   "codemirror_mode": {
    "name": "ipython",
    "version": 3
   },
   "file_extension": ".py",
   "mimetype": "text/x-python",
   "name": "python",
   "nbconvert_exporter": "python",
   "pygments_lexer": "ipython3",
   "version": "3.13.3"
  }
 },
 "nbformat": 4,
 "nbformat_minor": 5
}
